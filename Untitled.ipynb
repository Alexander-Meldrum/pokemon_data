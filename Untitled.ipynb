{
 "cells": [
  {
   "cell_type": "code",
   "execution_count": 15,
   "id": "9d615adb",
   "metadata": {},
   "outputs": [
    {
     "name": "stdout",
     "output_type": "stream",
     "text": [
      "   manufacturer       class\n",
      "0          audi     compact\n",
      "1          audi     compact\n",
      "2          audi     compact\n",
      "3          audi     compact\n",
      "4          audi     compact\n",
      "15         audi     midsize\n",
      "16         audi     midsize\n",
      "17         audi     midsize\n",
      "18    chevrolet         suv\n",
      "19    chevrolet         suv\n",
      "20    chevrolet         suv\n",
      "21    chevrolet         suv\n",
      "22    chevrolet         suv\n",
      "23    chevrolet     2seater\n",
      "24    chevrolet     2seater\n",
      "25    chevrolet     2seater\n",
      "26    chevrolet     2seater\n",
      "27    chevrolet     2seater\n",
      "32    chevrolet     midsize\n",
      "33    chevrolet     midsize\n",
      "37        dodge     minivan\n",
      "38        dodge     minivan\n",
      "39        dodge     minivan\n",
      "40        dodge     minivan\n",
      "41        dodge     minivan\n",
      "48        dodge      pickup\n",
      "49        dodge      pickup\n",
      "50        dodge      pickup\n",
      "51        dodge      pickup\n",
      "52        dodge      pickup\n",
      "90         ford  subcompact\n",
      "91         ford  subcompact\n",
      "92         ford  subcompact\n",
      "93         ford  subcompact\n",
      "94         ford  subcompact\n",
      "\n",
      "[['chevrolet', 'chevrolet', 'chevrolet', 'chevrolet', 'chevrolet'], ['audi', 'audi', 'audi', 'audi', 'audi', 'audi', 'audi', 'audi', 'audi', 'audi', 'audi', 'audi', 'audi', 'audi', 'audi', 'nissan', 'nissan', 'subaru', 'subaru', 'subaru', 'subaru', 'toyota', 'toyota', 'toyota', 'toyota', 'toyota', 'toyota', 'toyota', 'toyota', 'toyota', 'toyota', 'toyota', 'toyota', 'volkswagen', 'volkswagen', 'volkswagen', 'volkswagen', 'volkswagen', 'volkswagen', 'volkswagen', 'volkswagen', 'volkswagen', 'volkswagen', 'volkswagen', 'volkswagen', 'volkswagen', 'volkswagen'], ['audi', 'audi', 'audi', 'chevrolet', 'chevrolet', 'chevrolet', 'chevrolet', 'chevrolet', 'hyundai', 'hyundai', 'hyundai', 'hyundai', 'hyundai', 'hyundai', 'hyundai', 'nissan', 'nissan', 'nissan', 'nissan', 'nissan', 'nissan', 'nissan', 'pontiac', 'pontiac', 'pontiac', 'pontiac', 'pontiac', 'toyota', 'toyota', 'toyota', 'toyota', 'toyota', 'toyota', 'toyota', 'volkswagen', 'volkswagen', 'volkswagen', 'volkswagen', 'volkswagen', 'volkswagen', 'volkswagen'], ['dodge', 'dodge', 'dodge', 'dodge', 'dodge', 'dodge', 'dodge', 'dodge', 'dodge', 'dodge', 'dodge'], ['dodge', 'dodge', 'dodge', 'dodge', 'dodge', 'dodge', 'dodge', 'dodge', 'dodge', 'dodge', 'dodge', 'dodge', 'dodge', 'dodge', 'dodge', 'dodge', 'dodge', 'dodge', 'dodge', 'ford', 'ford', 'ford', 'ford', 'ford', 'ford', 'ford', 'toyota', 'toyota', 'toyota', 'toyota', 'toyota', 'toyota', 'toyota'], ['ford', 'ford', 'ford', 'ford', 'ford', 'ford', 'ford', 'ford', 'ford', 'honda', 'honda', 'honda', 'honda', 'honda', 'honda', 'honda', 'honda', 'honda', 'hyundai', 'hyundai', 'hyundai', 'hyundai', 'hyundai', 'hyundai', 'hyundai', 'subaru', 'subaru', 'subaru', 'subaru', 'volkswagen', 'volkswagen', 'volkswagen', 'volkswagen', 'volkswagen', 'volkswagen'], ['chevrolet', 'chevrolet', 'chevrolet', 'chevrolet', 'chevrolet', 'chevrolet', 'chevrolet', 'chevrolet', 'chevrolet', 'dodge', 'dodge', 'dodge', 'dodge', 'dodge', 'dodge', 'dodge', 'ford', 'ford', 'ford', 'ford', 'ford', 'ford', 'ford', 'ford', 'ford', 'jeep', 'jeep', 'jeep', 'jeep', 'jeep', 'jeep', 'jeep', 'jeep', 'land rover', 'land rover', 'land rover', 'land rover', 'lincoln', 'lincoln', 'lincoln', 'mercury', 'mercury', 'mercury', 'mercury', 'nissan', 'nissan', 'nissan', 'nissan', 'subaru', 'subaru', 'subaru', 'subaru', 'subaru', 'subaru', 'toyota', 'toyota', 'toyota', 'toyota', 'toyota', 'toyota', 'toyota', 'toyota']]\n"
     ]
    }
   ],
   "source": [
    "import numpy as np\n",
    "import pandas as pd\n",
    "import matplotlib.pyplot as plt\n",
    "import seaborn as sns\n",
    "sns.set()\n",
    "# Import Data\n",
    "df = pd.read_csv(\"https://github.com/selva86/datasets/raw/master/mpg_ggplot2.csv\")\n",
    "\n",
    "# Prepare data\n",
    "x_var = 'manufacturer'\n",
    "groupby_var = 'class'\n",
    "df_agg = df.loc[:, [x_var, groupby_var]].groupby(groupby_var)\n",
    "vals = [df[x_var].values.tolist() for i, df in df_agg]\n",
    "\n",
    "\n",
    "print(df_agg.head())\n",
    "print('')\n",
    "print(vals)\n",
    "\n",
    "# Draw\n",
    "#plt.figure(figsize=(16,9), dpi= 80)\n",
    "#colors = [plt.cm.Spectral(i/float(len(vals)-1)) for i in range(len(vals))]\n",
    "#n, bins, patches = plt.hist(vals, df[x_var].unique().__len__(), stacked=True, density=False, color=colors[:len(vals)])\n",
    "\n",
    "# Decoration\n",
    "#plt.legend({group:col for group, col in zip(np.unique(df[groupby_var]).tolist(), colors[:len(vals)])})\n",
    "#plt.title(f\"Stacked Histogram of ${x_var}$ colored by ${groupby_var}$\", fontsize=22)\n",
    "#plt.xlabel(x_var)\n",
    "#plt.ylabel(\"Frequency\")\n",
    "#plt.ylim(0, 40)\n",
    "#plt.xticks(ticks=bins, labels=np.unique(df[x_var]).tolist(), rotation=90, horizontalalignment='left')\n",
    "#plt.show()"
   ]
  },
  {
   "cell_type": "code",
   "execution_count": null,
   "id": "650ff90a",
   "metadata": {},
   "outputs": [],
   "source": []
  }
 ],
 "metadata": {
  "kernelspec": {
   "display_name": "Python 3 (ipykernel)",
   "language": "python",
   "name": "python3"
  },
  "language_info": {
   "codemirror_mode": {
    "name": "ipython",
    "version": 3
   },
   "file_extension": ".py",
   "mimetype": "text/x-python",
   "name": "python",
   "nbconvert_exporter": "python",
   "pygments_lexer": "ipython3",
   "version": "3.9.7"
  }
 },
 "nbformat": 4,
 "nbformat_minor": 5
}
